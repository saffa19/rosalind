{
 "cells": [
  {
   "cell_type": "code",
   "execution_count": null,
   "id": "2b724cb6",
   "metadata": {},
   "outputs": [],
   "source": [
    "from collections import Counter\n",
    "import time"
   ]
  },
  {
   "cell_type": "code",
   "execution_count": null,
   "id": "32e8ddae",
   "metadata": {},
   "outputs": [],
   "source": [
    "start = time.perf_counter()"
   ]
  },
  {
   "cell_type": "code",
   "execution_count": null,
   "id": "4c5da3f7",
   "metadata": {},
   "outputs": [],
   "source": [
    "with open('data/rosalind_dna.txt') as f:\n",
    "    dna = f.read()"
   ]
  },
  {
   "cell_type": "markdown",
   "id": "12ce0c42",
   "metadata": {},
   "source": [
    "### Problem\n",
    "A string is simply an ordered collection of symbols selected from some alphabet and formed into a word; the length of a string is the number of symbols that it contains.\n",
    "\n",
    "An example of a length 21 DNA string (whose alphabet contains the symbols 'A', 'C', 'G', and 'T') is \"ATGCTTCAGAAAGGTCTTACG.\"\n",
    "\n",
    "Given: A DNA string `s` of length at most 1000 nt.\n",
    "\n",
    "Return: Four integers (separated by spaces) counting the respective number of times that the symbols 'A', 'C', 'G', and 'T' occur in `s`.\n",
    "\n",
    "Sample Dataset\n",
    "\n",
    "`AGCTTTTCATTCTGACTGCAACGGGCAATATGTCTCTGTGTGGATTAAAAAAAGAGTGTCTGATAGCAGC`\n",
    "\n",
    "Sample Output\n",
    "\n",
    "`20 12 17 21`"
   ]
  },
  {
   "cell_type": "code",
   "execution_count": null,
   "id": "96808895",
   "metadata": {},
   "outputs": [],
   "source": [
    "def countBases(st):\n",
    "    counts = Counter(st)\n",
    "    print(counts)\n",
    "    print(counts['A'],counts['C'],counts['G'],counts['T'])"
   ]
  },
  {
   "cell_type": "code",
   "execution_count": null,
   "id": "4d8a1e86",
   "metadata": {},
   "outputs": [],
   "source": [
    "countBases(dna)"
   ]
  },
  {
   "cell_type": "code",
   "execution_count": null,
   "id": "8569e668",
   "metadata": {},
   "outputs": [],
   "source": [
    "print(f'Finished in {time.perf_counter() - start:0.4f} seconds')"
   ]
  }
 ],
 "metadata": {
  "kernelspec": {
   "display_name": "Python 3 (ipykernel)",
   "language": "python",
   "name": "python3"
  },
  "language_info": {
   "codemirror_mode": {
    "name": "ipython",
    "version": 3
   },
   "file_extension": ".py",
   "mimetype": "text/x-python",
   "name": "python",
   "nbconvert_exporter": "python",
   "pygments_lexer": "ipython3",
   "version": "3.9.5"
  }
 },
 "nbformat": 4,
 "nbformat_minor": 5
}
