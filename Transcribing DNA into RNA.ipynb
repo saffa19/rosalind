{
 "cells": [
  {
   "cell_type": "code",
   "execution_count": 3,
   "id": "49a3acb3",
   "metadata": {},
   "outputs": [],
   "source": [
    "import time"
   ]
  },
  {
   "cell_type": "code",
   "execution_count": 4,
   "id": "862d9726",
   "metadata": {},
   "outputs": [],
   "source": [
    "start = time.perf_counter()"
   ]
  },
  {
   "cell_type": "code",
   "execution_count": 5,
   "id": "0ff53cf1",
   "metadata": {},
   "outputs": [],
   "source": [
    "with open('data/rosalind_rna.txt') as f:\n",
    "    data = f.read()"
   ]
  },
  {
   "cell_type": "markdown",
   "id": "12ce0c42",
   "metadata": {},
   "source": [
    "### Problem\n",
    "An RNA string is a string formed from the alphabet containing 'A', 'C', 'G', and 'U'.\n",
    "\n",
    "Given a DNA string t corresponding to a coding strand, its transcribed RNA string u is formed by replacing all occurrences of 'T' in t with 'U' in u.\n",
    "\n",
    "Given: A DNA string t having length at most 1000 nt.\n",
    "\n",
    "Return: The transcribed RNA string of t.\n",
    "\n",
    "Sample Dataset\n",
    "\n",
    "`GATGGAACTTGACTACGTAAATT`\n",
    "\n",
    "Sample Output\n",
    "\n",
    "`GAUGGAACUUGACUACGUAAAUU`"
   ]
  },
  {
   "cell_type": "code",
   "execution_count": 6,
   "id": "e4c38b78",
   "metadata": {},
   "outputs": [],
   "source": [
    "def function(data):\n",
    "    return data.replace('T','U')"
   ]
  },
  {
   "cell_type": "code",
   "execution_count": 7,
   "id": "daceaa1b",
   "metadata": {},
   "outputs": [
    {
     "data": {
      "text/plain": [
       "'AAUCACGUCCUUUAUCCAGGUUCAUAGAGGGAGUAUGUUUCAUUGCCGUGUUGCUGGACCCCUCAGAAGGGAAUAUGCGCUCCUGGCGCGUUCAUUGGUCAGUGUCGCCGUGCGCUCACGGCACCUAUUGCAAUGGCUCGCCUUUCAUCAGACCACAUAUUUUUACGUUUUUGAACCAAAGUACUUUGUCGCAUGAACAUUGGGCACCCUUCCGCCGCCCAAGUGUAAAAGUAGGCACGUCGUAUGCACGGGACAGGAGGCCGGAAAGCGUACAUUCGACACCAGGGUAGACCCGAUUACCACCUUUUACGCUACGUCACGAGCGACAGGCCGCGGGCCCUUACGCCCGGUCGUAUCUUUGUCACCCUUUGCUCAGACCACCGCGUUACAUCAUUGAAGUGGGACAGUUCAGACCAAGUUUUGGUGCCUGGCCAUUGCCUGGAGGUACUGGAUGUAACCCCCGCUAGCUCGUCUCCCACGAACAUUUAGAACACGAUGUCUCCUCUUCGCGAGGAUUGGUCGCAUUUCCCUUAUAACCUCCGGCCCCCAUGAAAACUUUAGAUCCCUAGGACUUGGAGCGCCCGUUCGAUUAAACGAGACGCUGUGCGGGCAGCUUCAGAGCUUAUUAAAAAUCUUUAACGGUCGAAAUGAAAGUAGUAACGAACCAUCUAGAUUCGAGCAACGCAGUCGAAUAACAAGGUUCUCAUAGCUUUGCUAUACGGUCAAUUGUAGAAUUACACGGCAUUGUGAUCGGUGCGUGCACUUUAAUUUAGUCCGACAGGCGAACCUAAUUAGGAUCGAAAAAGACCUCUUCGCUCAACCUAAGACGUCGUUGGAUCCGGGGCUUGGUGGUCGUCGCCAGCAUAAAAAUCGGGUGUCUGCUACGCAAUAACAUCUUCGAACACCUGGCAAGUCGAUAUUAUUCGUGCCACACUCAGUCCAAGUAUUUAUUC\\n'"
      ]
     },
     "execution_count": 7,
     "metadata": {},
     "output_type": "execute_result"
    }
   ],
   "source": [
    "function(data)"
   ]
  },
  {
   "cell_type": "code",
   "execution_count": 8,
   "id": "a1dccce0",
   "metadata": {},
   "outputs": [
    {
     "name": "stdout",
     "output_type": "stream",
     "text": [
      "Finished in 0.0600 seconds\n"
     ]
    }
   ],
   "source": [
    "print(f'Finished in {time.perf_counter() - start:0.4f} seconds')"
   ]
  }
 ],
 "metadata": {
  "kernelspec": {
   "display_name": "Python 3 (ipykernel)",
   "language": "python",
   "name": "python3"
  },
  "language_info": {
   "codemirror_mode": {
    "name": "ipython",
    "version": 3
   },
   "file_extension": ".py",
   "mimetype": "text/x-python",
   "name": "python",
   "nbconvert_exporter": "python",
   "pygments_lexer": "ipython3",
   "version": "3.9.5"
  }
 },
 "nbformat": 4,
 "nbformat_minor": 5
}
