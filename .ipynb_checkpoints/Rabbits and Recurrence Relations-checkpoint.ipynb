{
 "cells": [
  {
   "cell_type": "code",
   "execution_count": 189,
   "id": "49a3acb3",
   "metadata": {},
   "outputs": [],
   "source": [
    "import time"
   ]
  },
  {
   "cell_type": "code",
   "execution_count": 190,
   "id": "862d9726",
   "metadata": {},
   "outputs": [],
   "source": [
    "start = time.perf_counter()"
   ]
  },
  {
   "cell_type": "code",
   "execution_count": 191,
   "id": "0ff53cf1",
   "metadata": {},
   "outputs": [],
   "source": [
    "with open('data/rosalind_fib.txt') as f:\n",
    "    data = [int(x) for x in f.read().rstrip().split(' ')]"
   ]
  },
  {
   "cell_type": "markdown",
   "id": "12ce0c42",
   "metadata": {},
   "source": [
    "### Problem\n",
    "A sequence is an ordered collection of objects (usually numbers), which are allowed to repeat. Sequences can be finite or infinite. Two examples are the finite sequence `(π,−2–√,0,π)` and the infinite sequence of odd numbers `(1,3,5,7,9,…)`. We use the notation an to represent the `n-th` term of a sequence.\n",
    "\n",
    "A recurrence relation is a way of defining the terms of a sequence with respect to the values of previous terms. In the case of Fibonacci's rabbits from the introduction, any given month will contain the rabbits that were alive the previous month, plus any new offspring. A key observation is that the number of offspring in any month is equal to the number of rabbits that were alive two months prior. As a result, if `Fn` represents the number of rabbit pairs alive after the `n-th` month, then we obtain the Fibonacci sequence having terms `Fn` that are defined by the recurrence relation `Fn=Fn−1+Fn−2` (with `F1=F2=1` to initiate the sequence). Although the sequence bears Fibonacci's name, it was known to Indian mathematicians over two millennia ago.\n",
    "\n",
    "When finding the `n-th` term of a sequence defined by a recurrence relation, we can simply use the recurrence relation to generate terms for progressively larger values of `n`. This problem introduces us to the computational technique of dynamic programming, which successively builds up solutions by using the answers to smaller cases.\n",
    "\n",
    "Given: Positive integers `n ≤ 40` and `k ≤ 5`.\n",
    "\n",
    "Return: The total number of rabbit pairs that will be present after `n` months, if we begin with 1 pair and in each generation, every pair of reproduction-age rabbits produces a litter of `k` rabbit pairs (instead of only 1 pair).\n",
    "\n",
    "Sample Dataset\n",
    "\n",
    "`5 3`\n",
    "\n",
    "Sample Output\n",
    "\n",
    "`19`"
   ]
  },
  {
   "cell_type": "code",
   "execution_count": 192,
   "id": "e4c38b78",
   "metadata": {},
   "outputs": [],
   "source": [
    "def rabbitPairs(n,k):\n",
    "    # no adults\n",
    "    fMinus2 = 0\n",
    "    # 1 young pair\n",
    "    fMinus1 = 1\n",
    "    for x in range(1, n):\n",
    "        fCurrent = fMinus2 + fMinus1\n",
    "        # step\n",
    "        fMinus2 = fMinus1\n",
    "        fMinus1 = fCurrent\n",
    "    return fCurrent"
   ]
  },
  {
   "cell_type": "code",
   "execution_count": 193,
   "id": "daceaa1b",
   "metadata": {},
   "outputs": [
    {
     "name": "stdout",
     "output_type": "stream",
     "text": [
      "1 1\n",
      "2 2\n",
      "3 3\n",
      "4 5\n",
      "5 8\n",
      "6 13\n",
      "7 21\n",
      "8 34\n",
      "9 55\n",
      "10 89\n",
      "11 144\n",
      "12 233\n",
      "13 377\n",
      "14 610\n",
      "15 987\n",
      "16 1597\n",
      "17 2584\n",
      "18 4181\n",
      "19 6765\n",
      "20 10946\n",
      "21 17711\n",
      "22 28657\n",
      "23 46368\n",
      "24 75025\n",
      "25 121393\n",
      "26 196418\n",
      "27 317811\n",
      "28 514229\n",
      "29 832040\n",
      "30 1346269\n"
     ]
    },
    {
     "data": {
      "text/plain": [
       "1346269"
      ]
     },
     "execution_count": 193,
     "metadata": {},
     "output_type": "execute_result"
    }
   ],
   "source": [
    "rabbitPairs(*data)"
   ]
  },
  {
   "cell_type": "code",
   "execution_count": 194,
   "id": "a1dccce0",
   "metadata": {},
   "outputs": [
    {
     "name": "stdout",
     "output_type": "stream",
     "text": [
      "Finished in 0.0771 seconds\n"
     ]
    }
   ],
   "source": [
    "print(f'Finished in {time.perf_counter() - start:0.4f} seconds')"
   ]
  }
 ],
 "metadata": {
  "kernelspec": {
   "display_name": "Python 3 (ipykernel)",
   "language": "python",
   "name": "python3"
  },
  "language_info": {
   "codemirror_mode": {
    "name": "ipython",
    "version": 3
   },
   "file_extension": ".py",
   "mimetype": "text/x-python",
   "name": "python",
   "nbconvert_exporter": "python",
   "pygments_lexer": "ipython3",
   "version": "3.9.5"
  }
 },
 "nbformat": 4,
 "nbformat_minor": 5
}
