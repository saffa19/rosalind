{
 "cells": [
  {
   "cell_type": "code",
   "execution_count": null,
   "id": "49a3acb3",
   "metadata": {},
   "outputs": [],
   "source": [
    "import time"
   ]
  },
  {
   "cell_type": "code",
   "execution_count": null,
   "id": "862d9726",
   "metadata": {},
   "outputs": [],
   "source": [
    "start = time.perf_counter()"
   ]
  },
  {
   "cell_type": "code",
   "execution_count": null,
   "id": "0ff53cf1",
   "metadata": {},
   "outputs": [],
   "source": [
    "with open('data/rosalind_prot.txt') as f:\n",
    "    data = f.read().rstrip()"
   ]
  },
  {
   "cell_type": "markdown",
   "id": "12ce0c42",
   "metadata": {},
   "source": [
    "### Problem\n",
    "The 20 commonly occurring amino acids are abbreviated by using 20 letters from the English alphabet (all letters except for B, J, O, U, X, and Z). Protein strings are constructed from these 20 symbols. Henceforth, the term genetic string will incorporate protein strings along with DNA strings and RNA strings.\n",
    "\n",
    "The RNA codon table dictates the details regarding the encoding of specific codons into the amino acid alphabet.\n",
    "\n",
    "Given: An RNA string `s` corresponding to a strand of mRNA (of length at most 10 kbp).\n",
    "\n",
    "Return: The protein string encoded by `s`.\n",
    "\n",
    "Sample Dataset\n",
    "\n",
    "`AUGGCCAUGGCGCCCAGAACUGAGAUCAAUAGUACCCGUAUUAACGGGUGA`\n",
    "\n",
    "Sample Output\n",
    "\n",
    "`MAMAPRTEINSTRING`"
   ]
  },
  {
   "cell_type": "code",
   "execution_count": null,
   "id": "31715bba",
   "metadata": {},
   "outputs": [],
   "source": [
    "codons = '''UUU F      CUU L      AUU I      GUU V\n",
    "UUC F      CUC L      AUC I      GUC V\n",
    "UUA L      CUA L      AUA I      GUA V\n",
    "UUG L      CUG L      AUG M      GUG V\n",
    "UCU S      CCU P      ACU T      GCU A\n",
    "UCC S      CCC P      ACC T      GCC A\n",
    "UCA S      CCA P      ACA T      GCA A\n",
    "UCG S      CCG P      ACG T      GCG A\n",
    "UAU Y      CAU H      AAU N      GAU D\n",
    "UAC Y      CAC H      AAC N      GAC D\n",
    "UAA Stop   CAA Q      AAA K      GAA E\n",
    "UAG Stop   CAG Q      AAG K      GAG E\n",
    "UGU C      CGU R      AGU S      GGU G\n",
    "UGC C      CGC R      AGC S      GGC G\n",
    "UGA Stop   CGA R      AGA R      GGA G\n",
    "UGG W      CGG R      AGG R      GGG G'''"
   ]
  },
  {
   "cell_type": "code",
   "execution_count": null,
   "id": "2bcb24d1",
   "metadata": {},
   "outputs": [],
   "source": [
    "codons = codons.split()\n",
    "i = iter(codons)\n",
    "codons = dict(zip(i,i))"
   ]
  },
  {
   "cell_type": "code",
   "execution_count": null,
   "id": "e4c38b78",
   "metadata": {},
   "outputs": [],
   "source": [
    "def rna2protein(data,codons):\n",
    "    i = iter(data)\n",
    "    protein = ''\n",
    "    while i:\n",
    "        codon = next(i)+next(i)+next(i)\n",
    "        if codons[codon] == 'Stop': break\n",
    "        protein += codons[codon]\n",
    "    print(protein)"
   ]
  },
  {
   "cell_type": "code",
   "execution_count": null,
   "id": "daceaa1b",
   "metadata": {
    "scrolled": true
   },
   "outputs": [],
   "source": [
    "rna2protein(data, codons)"
   ]
  },
  {
   "cell_type": "code",
   "execution_count": null,
   "id": "a1dccce0",
   "metadata": {},
   "outputs": [],
   "source": [
    "print(f'Finished in {time.perf_counter() - start:0.4f} seconds')"
   ]
  }
 ],
 "metadata": {
  "kernelspec": {
   "display_name": "Python 3 (ipykernel)",
   "language": "python",
   "name": "python3"
  },
  "language_info": {
   "codemirror_mode": {
    "name": "ipython",
    "version": 3
   },
   "file_extension": ".py",
   "mimetype": "text/x-python",
   "name": "python",
   "nbconvert_exporter": "python",
   "pygments_lexer": "ipython3",
   "version": "3.9.5"
  }
 },
 "nbformat": 4,
 "nbformat_minor": 5
}
