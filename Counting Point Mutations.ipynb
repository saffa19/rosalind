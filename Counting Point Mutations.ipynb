{
 "cells": [
  {
   "cell_type": "code",
   "execution_count": 1,
   "id": "49a3acb3",
   "metadata": {},
   "outputs": [],
   "source": [
    "import time"
   ]
  },
  {
   "cell_type": "code",
   "execution_count": 2,
   "id": "862d9726",
   "metadata": {},
   "outputs": [],
   "source": [
    "start = time.perf_counter()"
   ]
  },
  {
   "cell_type": "code",
   "execution_count": 3,
   "id": "0ff53cf1",
   "metadata": {},
   "outputs": [],
   "source": [
    "with open('data/rosalind_hamm.txt') as f:\n",
    "    data = f.read().split('\\n')"
   ]
  },
  {
   "cell_type": "code",
   "execution_count": 4,
   "id": "494fcf15",
   "metadata": {},
   "outputs": [
    {
     "data": {
      "text/plain": [
       "['GTAGTGGGCCGGCCAGAGTACATAAATAGAGCGACCGCTACCTAGAAAGTCAGCGTTGTATGGAAAATTGGTGGCGCCACGCCCCCCGGCTTGGCCAGTTCAGCACATATTTTGGTAATAATATCATGACACGCTGTGCACACTTTCTGTCATATTCTTATATTAATGCAGTGTCATTCGTCCGCCGGTACATTAGAAGTTGCCCTACAGCGCTAGCTGGGGTTTTCCAAAAACGAGATCGCCTATATCACGGGACTTCGCTACTCTACTACTTGTACCCAATAGGTAGAACAATGTCTTGTAGAATGTCTCCAATGCTTTCGTGATACCTCAGCGTAACGACGAACTAGAACAAGGCTAAAAAAGAACCACTACGAGGAACTGCAGCGCGGCGACACGCCTACCCTCGCCACACTAAATCCAGGGCATGGTTATTAATGACAGCGTAAGTCTCCTTCTCTGTTTCTACTTGGAACTTTCATTGCAATCCGTAAGAGGGCTATCTTTACGTCGCACATATGAGCACTCTTAGAGACGTATGCACGTACGCGCACGGCCAGCCCTCCGGATTCATTAGGTCGACCGGTAGCCGGTGCACCGTATTGATCTTTCTGGCCCTCCTCCCTTTAGCTTAATTTGACGAAACGCACCTAATTCTAGGTTGATGCTCCATACATCCTAGCCGCGCCCTGAGGGCGCTCTGGGAAGCACAGTCTGATGACCCCTGATCTGGGCAAACCTCTTCTTCGCTAGAGACTATGAGTTCGGACTGTGGTCCTTTGAAATCTATTCCGGAGGTGTGGGGTTCTCGTCTCTACCAAATCGCTACAGCGACCCGAGCGGATAGTAGTGCAAGGTATGTCGCAGGAATCAATCGGTGAGCATATCATCTTCGGGATCAGGTTGGCGGAGTATTTATAATAGACGGCCTAACGCTGGCAGACGCTCGACGTAGTCTGCGCGCGCTAGCGTCCTA',\n",
       " 'TATTTGTGCTCGCCACCAGGCGCAAAGATATCCACGGATAGACGGAATAGCAGCGGTGTACGGTAGTTTGCAGAACCAATGGGGCCGCCATCGGGCTTTACGTGGTGTATTTTCGTGTCAATGTCAGCACCCGCTGGAAAGGCATCTTCTGCGAGCTCAATAGAACAGCAAGGTCGTTCTCCAGCTGGTGCGGTAGAAGGGGTCCCCGAGAGACCGTTGCGATCGGCCATAAGCGAGATTGCTGACGTAACCGGAGCAATGCATGGTATGAATTGTCCCTCGCACATGCAAATATTTCGCAGCGCAGGGTCTGAACTCTCTCGTGATATGTCGACCTTGGGAAGTACGGTAATAATGGTATATACAATGTACTGGTACGTGCAGGAGAGTCACGACACGCGCCCGCCGCATCTTCTCTACGTAAACCATGGCTAAAGGCCACCGTTTCAGAACCATTCGCGTAAAGCACTTTGTAATTGCACTGACGGCGAGCGGAAGTCGCGCTAAACGACCCATACTTCCTCCCTGTTTGATCCGCAAGCACTCTTGGGTCCAAAAAAGCAGATGCGACCACATGGGCGACAGAGGGATGGTGCATGCTGTTGATATTTGTGCCATTCTACTCCATAGGTTGAATTGCTAGCACGAATCAAATTTCAGGAAGATGCTCCTGGACACCCCGACTATCCGTTAGAGTGCGATGCGAAGGACAGTCTGCTCAACCGGCCTCAAGTTAGACCTACTCGTCGGTATCGCCTCTTGAACAATACTGGGGGACTACGAATTCTACTCAGGAGGCGATGTCTCTCACTGGGCTGAGGAGCAGTCCGATTGACCGAAGAGGGAGTAGACTGGACTGAGACGCGCGGGTGACGCATCGAGTTTAGCACGGGCGGAAGCACGGTGGCTGACAAATGCTAAACGGGCTCCTAATGAGATCTGATGGGCAATGTAATCGCCATGAGATCGGGTTATT',\n",
       " '']"
      ]
     },
     "execution_count": 4,
     "metadata": {},
     "output_type": "execute_result"
    }
   ],
   "source": [
    "data"
   ]
  },
  {
   "cell_type": "markdown",
   "id": "12ce0c42",
   "metadata": {},
   "source": [
    "### Problem\n",
    "Given two strings `s` and `t` of equal length, the Hamming distance between `s` and `t`, denoted `dH(s,t)`, is the number of corresponding symbols that differ in `s` and `t`. See Figure 2.\n",
    "\n",
    "Given: Two DNA strings `s` and `t` of equal length (not exceeding 1 kbp).\n",
    "\n",
    "Return: The Hamming distance `dH(s,t)`.\n",
    "\n",
    "Sample Dataset\n",
    "\n",
    "`GAGCCTACTAACGGGAT`\n",
    "\n",
    "`CATCGTAATGACGGCCT`\n",
    "\n",
    "Sample Output\n",
    "\n",
    "`7`"
   ]
  },
  {
   "cell_type": "code",
   "execution_count": 5,
   "id": "e4c38b78",
   "metadata": {},
   "outputs": [],
   "source": [
    "def dh(data):\n",
    "    s,t = data[0], data[1]\n",
    "    dist = 0\n",
    "    for i, j in enumerate(s):\n",
    "        if s[i] != t[i]:\n",
    "            dist += 1\n",
    "    print(dist)"
   ]
  },
  {
   "cell_type": "code",
   "execution_count": 6,
   "id": "daceaa1b",
   "metadata": {},
   "outputs": [
    {
     "name": "stdout",
     "output_type": "stream",
     "text": [
      "491\n"
     ]
    }
   ],
   "source": [
    "dh(data)"
   ]
  },
  {
   "cell_type": "code",
   "execution_count": 7,
   "id": "a1dccce0",
   "metadata": {},
   "outputs": [
    {
     "name": "stdout",
     "output_type": "stream",
     "text": [
      "Finished in 0.0756 seconds\n"
     ]
    }
   ],
   "source": [
    "print(f'Finished in {time.perf_counter() - start:0.4f} seconds')"
   ]
  }
 ],
 "metadata": {
  "kernelspec": {
   "display_name": "Python 3 (ipykernel)",
   "language": "python",
   "name": "python3"
  },
  "language_info": {
   "codemirror_mode": {
    "name": "ipython",
    "version": 3
   },
   "file_extension": ".py",
   "mimetype": "text/x-python",
   "name": "python",
   "nbconvert_exporter": "python",
   "pygments_lexer": "ipython3",
   "version": "3.9.5"
  }
 },
 "nbformat": 4,
 "nbformat_minor": 5
}
