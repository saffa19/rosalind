{
 "cells": [
  {
   "cell_type": "code",
   "execution_count": 1,
   "id": "49a3acb3",
   "metadata": {},
   "outputs": [],
   "source": [
    "import time"
   ]
  },
  {
   "cell_type": "code",
   "execution_count": 2,
   "id": "862d9726",
   "metadata": {},
   "outputs": [],
   "source": [
    "start = time.perf_counter()"
   ]
  },
  {
   "cell_type": "code",
   "execution_count": 3,
   "id": "0ff53cf1",
   "metadata": {},
   "outputs": [],
   "source": [
    "with open('data/rosalind_subs.txt') as f:\n",
    "    data = f.read().rstrip().split('\\n')"
   ]
  },
  {
   "cell_type": "code",
   "execution_count": 4,
   "id": "a727ae37",
   "metadata": {},
   "outputs": [
    {
     "data": {
      "text/plain": [
       "['CGTTTAGCGGATGGCGGATGGGCGGATGACGCGGATGGCGGATGGCGGATGCGACCCGGCGGATGATTGCGCGGATGATTTAATTGTTCGAAGGCGGATGATAGCGGATGGCGGATGTGCGGATGGCGGATGGCGGATGGCGGATGAGCGGATGATTACGCGGATGCGCGGATGGACTGGCGGATGAAGCGGATGGGGCGGCGGATGAGCGGATGTGGGCGGATGGCGGATGGCGGATGGATAGCGGATGTTGCGCGGATGTGCGGATGAGCGAGCGGATGCCTGGCGGATGGCGGATGTGCGCGGATGGCGGATGGTTAGCGGATGTCGCGGATGCGGTCGGGCGGATGGCGGATGCGCGGATGAGGCGGATGCTGCGGATGCGGCGGATGTTCAGCGGATGAAATGACGCGGATGTAGCGGATGGCGGATGGCGGATGGCGGATGCTCCGCGGATGCTCTCCTTTCATGCGGATGTGCGCGGATGCGGCGGATGGCGGATGGGCGGATGGGAGCGGATGGCGGATGAGGCGGATGTTCAGCGGATGTGCGGATGGCGGATGGGCGGATGCGACGGAGGCGGATGCGCGGATGTGATGCGGATGACGCGGATGGCGGATGGGCGGATGCCACAGGCGGATGGCGCGGATGTGTGAATAGCGGATGTTGGGGCGGATGCGCGGATGTGGCGGATGGCGGATGAAAGCGGATGGGCGGATGCAGCGGATGATGCGGATGTGCGGATGAGGCGGATGATTGCGGATGAAGCGGATGATGGCGGATGAGCGCGGATGGACGCGGATGAAGCGGATGCGCGGATGGCGGATGATGCGGATGGCGGATGGCGGATGGCTGGGCGGATGGCTGCGGATGCCAGAATAGCGGATGGCGGATGAGCGGATGCGCGGATGCAGCGCGGATGAGCGGATGGGCGGCGGATGGCGGATGTGCGGATGA',\n",
       " 'GCGGATGGC']"
      ]
     },
     "execution_count": 4,
     "metadata": {},
     "output_type": "execute_result"
    }
   ],
   "source": [
    "data"
   ]
  },
  {
   "cell_type": "markdown",
   "id": "12ce0c42",
   "metadata": {},
   "source": [
    "### Problem\n",
    "\n",
    "**assuming 1-based numbering**\n",
    "\n",
    "Given two strings `s` and `t`, `t` is a substring of `s` if `t` is contained as a contiguous collection of symbols in `s` (as a result, `t` must be no longer than `s`).\n",
    "\n",
    "The position of a symbol in a string is the total number of symbols found to its left, including itself (e.g., the positions of all occurrences of 'U' in \"AUGCUUCAGAAAGGUCUUACG\" are 2, 5, 6, 15, 17, and 18). The symbol at position `i` of `s` is denoted by `s[i]`.\n",
    "\n",
    "A substring of s can be represented as s[j:k], where j and k represent the starting and ending positions of the substring in s; for example, if `s = \"AUGCUUCAGAAAGGUCUUACG\"`, then `s[2:5] = \"UGCU\"`.\n",
    "\n",
    "The location of a substring `s[j:k]` is its beginning position `j`; note that `t` will have multiple locations in `s` if it occurs more than once as a substring of `s` (see the Sample below).\n",
    "\n",
    "Given: Two DNA strings `s` and `t` (each of length at most 1 kbp).\n",
    "\n",
    "Return: All locations of `t` as a substring of `s`.\n",
    "\n",
    "Sample Dataset\n",
    "\n",
    "`GATATATGCATATACTT`\n",
    "\n",
    "`ATAT`\n",
    "\n",
    "Sample Output\n",
    "\n",
    "`2 4 10`"
   ]
  },
  {
   "cell_type": "code",
   "execution_count": 5,
   "id": "49258452",
   "metadata": {},
   "outputs": [],
   "source": [
    "#data = ['GATATATGCATATACTT', 'ATAT']"
   ]
  },
  {
   "cell_type": "code",
   "execution_count": 6,
   "id": "e4c38b78",
   "metadata": {},
   "outputs": [],
   "source": [
    "from collections import OrderedDict\n",
    "\n",
    "def function(s, t): \n",
    "    strings = []\n",
    "    for i in range(len(s)):\n",
    "        ret = s.find(t,i)\n",
    "        if ret != -1:\n",
    "            strings.append(ret + 1)\n",
    "    print(\" \".join(str(x) for x in list(OrderedDict.fromkeys(strings))) )"
   ]
  },
  {
   "cell_type": "code",
   "execution_count": 7,
   "id": "2fa0b46c",
   "metadata": {},
   "outputs": [
    {
     "data": {
      "text/plain": [
       "'C'"
      ]
     },
     "execution_count": 7,
     "metadata": {},
     "output_type": "execute_result"
    }
   ],
   "source": [
    "data[1][-1]"
   ]
  },
  {
   "cell_type": "code",
   "execution_count": 8,
   "id": "6a67e15c",
   "metadata": {},
   "outputs": [
    {
     "data": {
      "text/plain": [
       "'CGTTTAGCGGATGGCGGATGGGCGGATGACGCGGATGGCGGATGGCGGATGCGACCCGGCGGATGATTGCGCGGATGATTTAATTGTTCGAAGGCGGATGATAGCGGATGGCGGATGTGCGGATGGCGGATGGCGGATGGCGGATGAGCGGATGATTACGCGGATGCGCGGATGGACTGGCGGATGAAGCGGATGGGGCGGCGGATGAGCGGATGTGGGCGGATGGCGGATGGCGGATGGATAGCGGATGTTGCGCGGATGTGCGGATGAGCGAGCGGATGCCTGGCGGATGGCGGATGTGCGCGGATGGCGGATGGTTAGCGGATGTCGCGGATGCGGTCGGGCGGATGGCGGATGCGCGGATGAGGCGGATGCTGCGGATGCGGCGGATGTTCAGCGGATGAAATGACGCGGATGTAGCGGATGGCGGATGGCGGATGGCGGATGCTCCGCGGATGCTCTCCTTTCATGCGGATGTGCGCGGATGCGGCGGATGGCGGATGGGCGGATGGGAGCGGATGGCGGATGAGGCGGATGTTCAGCGGATGTGCGGATGGCGGATGGGCGGATGCGACGGAGGCGGATGCGCGGATGTGATGCGGATGACGCGGATGGCGGATGGGCGGATGCCACAGGCGGATGGCGCGGATGTGTGAATAGCGGATGTTGGGGCGGATGCGCGGATGTGGCGGATGGCGGATGAAAGCGGATGGGCGGATGCAGCGGATGATGCGGATGTGCGGATGAGGCGGATGATTGCGGATGAAGCGGATGATGGCGGATGAGCGCGGATGGACGCGGATGAAGCGGATGCGCGGATGGCGGATGATGCGGATGGCGGATGGCGGATGGCTGGGCGGATGGCTGCGGATGCCAGAATAGCGGATGGCGGATGAGCGGATGCGCGGATGCAGCGCGGATGAGCGGATGGGCGGCGGATGGCGGATGTGCGGATGA'"
      ]
     },
     "execution_count": 8,
     "metadata": {},
     "output_type": "execute_result"
    }
   ],
   "source": [
    "data[0]"
   ]
  },
  {
   "cell_type": "code",
   "execution_count": 9,
   "id": "adfa29e8",
   "metadata": {},
   "outputs": [
    {
     "data": {
      "text/plain": [
       "'GCGGATGGC'"
      ]
     },
     "execution_count": 9,
     "metadata": {},
     "output_type": "execute_result"
    }
   ],
   "source": [
    "data[1]"
   ]
  },
  {
   "cell_type": "code",
   "execution_count": 10,
   "id": "daceaa1b",
   "metadata": {},
   "outputs": [
    {
     "name": "stdout",
     "output_type": "stream",
     "text": [
      "7 31 38 104 119 126 133 219 226 286 303 344 420 427 434 490 515 550 608 636 689 815 831 838 845 857 882 935\n"
     ]
    }
   ],
   "source": [
    "function(*data)"
   ]
  },
  {
   "cell_type": "code",
   "execution_count": 11,
   "id": "a1dccce0",
   "metadata": {},
   "outputs": [
    {
     "name": "stdout",
     "output_type": "stream",
     "text": [
      "Finished in 0.1671 seconds\n"
     ]
    }
   ],
   "source": [
    "print(f'Finished in {time.perf_counter() - start:0.4f} seconds')"
   ]
  }
 ],
 "metadata": {
  "kernelspec": {
   "display_name": "Python 3 (ipykernel)",
   "language": "python",
   "name": "python3"
  },
  "language_info": {
   "codemirror_mode": {
    "name": "ipython",
    "version": 3
   },
   "file_extension": ".py",
   "mimetype": "text/x-python",
   "name": "python",
   "nbconvert_exporter": "python",
   "pygments_lexer": "ipython3",
   "version": "3.9.5"
  }
 },
 "nbformat": 4,
 "nbformat_minor": 5
}
