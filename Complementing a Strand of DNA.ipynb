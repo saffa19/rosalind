{
 "cells": [
  {
   "cell_type": "code",
   "execution_count": 8,
   "id": "49a3acb3",
   "metadata": {},
   "outputs": [],
   "source": [
    "import time"
   ]
  },
  {
   "cell_type": "code",
   "execution_count": 9,
   "id": "862d9726",
   "metadata": {},
   "outputs": [],
   "source": [
    "start = time.perf_counter()"
   ]
  },
  {
   "cell_type": "code",
   "execution_count": 10,
   "id": "0ff53cf1",
   "metadata": {},
   "outputs": [],
   "source": [
    "with open('data/rosalind_revc.txt') as f:\n",
    "    data = f.read()"
   ]
  },
  {
   "cell_type": "markdown",
   "id": "12ce0c42",
   "metadata": {},
   "source": [
    "### Problem\n",
    "In DNA strings, symbols 'A' and 'T' are complements of each other, as are 'C' and 'G'.\n",
    "\n",
    "The reverse complement of a DNA string s is the string sc formed by reversing the symbols of s, then taking the complement of each symbol (e.g., the reverse complement of \"GTCA\" is \"TGAC\").\n",
    "\n",
    "Given: A DNA string s of length at most 1000 bp.\n",
    "\n",
    "Return: The reverse complement sc of s.\n",
    "\n",
    "Sample Dataset\n",
    "\n",
    "`AAAACCCGGT`\n",
    "\n",
    "Sample Output\n",
    "\n",
    "`ACCGGGTTTT`"
   ]
  },
  {
   "cell_type": "code",
   "execution_count": 13,
   "id": "e4c38b78",
   "metadata": {},
   "outputs": [],
   "source": [
    "def function(data):\n",
    "    pairs = {'A':'T','T':'A','C':'G','G':'C'}\n",
    "    ret = ''\n",
    "    for x in data.rstrip():\n",
    "        ret = pairs[x] + ret\n",
    "    return ret\n",
    "    "
   ]
  },
  {
   "cell_type": "code",
   "execution_count": 14,
   "id": "daceaa1b",
   "metadata": {},
   "outputs": [
    {
     "data": {
      "text/plain": [
       "'CCAGTAGAAATCGAGTAAACAGTGGTGCGATGGGTAGGCTATCCTGCGCGCAACATAAGGTCTCAACACTTCACCTGAGCTGTGCTCAGAATTGTGCCTGGATGTCCATACGGAAGCTATAGTTCGTTACCGTTCAGCAGCATATCCAACGAGCAGTTATATTACCACGGGAAATAGCGTCCTTTTGCGCGCCTTACCTGATCCTGCGTGTATCTAGGGTAGTTATGCCGCGACACTCAAGGGTATGTTTTTCAAACCCCCAGCATGTTAGGTGTAGTTGGTTGCTTTCTAGGCATCACAGCCGTAGCCAATACTGGTAGTCCGGAAGGCTCAAGTCGAGCCCTCAGGCGCATAGGCAGCTTGGGCACTTTAGCATTTAAGCCTTTGTGTCTAACCTTAGAAGACGATCGCCAGCCACACTCTAGACTTTGGCGCTATTACAGACGCTCACCGCGGGCGCACTGTGGTCTCCCTGGGCCGACTGCGATAGTTGGTATGTCTTTATGCCTCCGCATTGATCGTGGCCCCTTCCCACGACTTACTAGCTATATGATTCATCGATATTAAAGGTGGCCTGCTCGTAGGCCTAGCCCGGCAGTTCCGATCCATGCTTCAATCTGTGCGCCAGTGTGCCACCTCGCCCGGCCAACGCCGTATGTCCCTGTTACTCCTTTACTCTGTTGTAAGACTAACATCGCCTCCACGATCGCGTCAGGGTCCCCGACGCTAGTGTAAAACGGTGTTGCAACGCGCGATTCTGATAACTGACTATCTCCGGTTTGCAGTTGTATCAGGTCCCTAACCACAGTGTACTGCTA'"
      ]
     },
     "execution_count": 14,
     "metadata": {},
     "output_type": "execute_result"
    }
   ],
   "source": [
    "function(data)"
   ]
  },
  {
   "cell_type": "code",
   "execution_count": null,
   "id": "a1dccce0",
   "metadata": {},
   "outputs": [],
   "source": [
    "print(f'Finished in {time.perf_counter() - start:0.4f} seconds')"
   ]
  }
 ],
 "metadata": {
  "kernelspec": {
   "display_name": "Python 3 (ipykernel)",
   "language": "python",
   "name": "python3"
  },
  "language_info": {
   "codemirror_mode": {
    "name": "ipython",
    "version": 3
   },
   "file_extension": ".py",
   "mimetype": "text/x-python",
   "name": "python",
   "nbconvert_exporter": "python",
   "pygments_lexer": "ipython3",
   "version": "3.9.5"
  }
 },
 "nbformat": 4,
 "nbformat_minor": 5
}
