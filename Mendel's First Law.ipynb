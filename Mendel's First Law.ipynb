{
 "cells": [
  {
   "cell_type": "code",
   "execution_count": 1,
   "id": "49a3acb3",
   "metadata": {},
   "outputs": [],
   "source": [
    "import time\n",
    "import numpy as np"
   ]
  },
  {
   "cell_type": "code",
   "execution_count": 2,
   "id": "862d9726",
   "metadata": {},
   "outputs": [],
   "source": [
    "start = time.perf_counter()"
   ]
  },
  {
   "cell_type": "code",
   "execution_count": 3,
   "id": "0ff53cf1",
   "metadata": {},
   "outputs": [],
   "source": [
    "with open('data/rosalind_iprb.txt') as f:\n",
    "    data = [int(x) for x in f.read().rstrip().split(' ')]"
   ]
  },
  {
   "cell_type": "markdown",
   "id": "12ce0c42",
   "metadata": {},
   "source": [
    "### Problem\n",
    "Probability is the mathematical study of randomly occurring phenomena. We will model such a phenomenon with a random variable, which is simply a variable that can take a number of different distinct outcomes depending on the result of an underlying random process.\n",
    "\n",
    "For example, say that we have a bag containing 3 red balls and 2 blue balls. If we let `X` represent the random variable corresponding to the color of a drawn ball, then the probability of each of the two outcomes is given by `Pr(X=red)=3/5` and `Pr(X=blue)=2/5`.\n",
    "\n",
    "Random variables can be combined to yield new random variables. Returning to the ball example, let `Y` model the color of a second ball drawn from the bag (without replacing the first ball). The probability of `Y` being red depends on whether the first ball was red or blue. To represent all outcomes of `X` and `Y`, we therefore use a probability tree diagram. This branching diagram represents all possible individual probabilities for `X` and `Y`, with outcomes at the endpoints (\"leaves\") of the tree. The probability of any outcome is given by the product of probabilities along the path from the beginning of the tree; see Figure 2 for an illustrative example.\n",
    "\n",
    "An event is simply a collection of outcomes. Because outcomes are distinct, the probability of an event can be written as the sum of the probabilities of its constituent outcomes. For our colored ball example, let `A` be the event \"Y is blue.\" `Pr(A)` is equal to the sum of the probabilities of two different outcomes: `Pr(X=blue and Y=blue)+Pr(X=red and Y=blue)`, or `3/10+1/10=2/5` (see Figure 2 above).\n",
    "\n",
    "Given: Three positive integers `k`, `m`, and `n`, representing a population containing `k+m+n` organisms: `k` individuals are homozygous dominant for a factor, `m` are heterozygous, and `n` are homozygous recessive.\n",
    "\n",
    "Return: The probability that two randomly selected mating organisms will produce an individual possessing a dominant allele (and thus displaying the dominant phenotype). Assume that any two organisms can mate.\n",
    "\n",
    "Sample Dataset\n",
    "\n",
    "`2 2 2`\n",
    "\n",
    "Sample Output\n",
    "\n",
    "`0.78333`"
   ]
  },
  {
   "cell_type": "markdown",
   "id": "4c0057a4",
   "metadata": {},
   "source": [
    "```\n",
    "k + k = dominant -> P(KK) = (k/k+m+n) * (k-1)/(k+m+n)-1= 2/6 * 1/5 = 3/30\n",
    "k + m = dominant -> P(KM) = (k/k+m+n) * k/(k+m+n)-1 = 2/6 * 2/5 = 4/30\n",
    "k + n = dominant -> P(KN) = 24/30\n",
    "m + m = dominant -> P(MM) = 16/30\n",
    "m + n = dominant -> P(MN) = 24/30\n",
    "n + n = recessive -> P(NN) = 16/30\n",
    "```"
   ]
  },
  {
   "cell_type": "code",
   "execution_count": 4,
   "id": "e4c38b78",
   "metadata": {},
   "outputs": [],
   "source": [
    "def function(k, m, n):\n",
    "    total = k + m + n\n",
    "    # double recessive homozygous alleles\n",
    "    bothN = (n/total) * ((n-1)/(total-1)) # aa aa\n",
    "    # double heterozygous alleles\n",
    "    bothM = (m/total) * ((m-1)/(total-1)) # Aa Aa\n",
    "    # recessive homo and hetero alleles\n",
    "    nM = (n/total) * (m/(total-1)) + (m/total) * (n/(total-1)) # aa Aa\n",
    "    print(bothN, bothM, nM)\n",
    "    print(f'{(1 - bothN - bothM*0.25 - nM*0.5):.5f}')\n",
    "    "
   ]
  },
  {
   "cell_type": "code",
   "execution_count": 5,
   "id": "daceaa1b",
   "metadata": {},
   "outputs": [
    {
     "name": "stdout",
     "output_type": "stream",
     "text": [
      "0.049689440993788817 0.13457556935817805 0.17225672877846793\n",
      "0.83054\n"
     ]
    }
   ],
   "source": [
    "function(*data)"
   ]
  },
  {
   "cell_type": "code",
   "execution_count": 6,
   "id": "a1dccce0",
   "metadata": {},
   "outputs": [
    {
     "name": "stdout",
     "output_type": "stream",
     "text": [
      "Finished in 0.0926 seconds\n"
     ]
    }
   ],
   "source": [
    "print(f'Finished in {time.perf_counter() - start:0.4f} seconds')"
   ]
  }
 ],
 "metadata": {
  "kernelspec": {
   "display_name": "Python 3 (ipykernel)",
   "language": "python",
   "name": "python3"
  },
  "language_info": {
   "codemirror_mode": {
    "name": "ipython",
    "version": 3
   },
   "file_extension": ".py",
   "mimetype": "text/x-python",
   "name": "python",
   "nbconvert_exporter": "python",
   "pygments_lexer": "ipython3",
   "version": "3.9.5"
  }
 },
 "nbformat": 4,
 "nbformat_minor": 5
}
